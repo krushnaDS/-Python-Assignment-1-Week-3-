{
 "cells": [
  {
   "cell_type": "code",
   "execution_count": null,
   "id": "1a5a01f3",
   "metadata": {},
   "outputs": [],
   "source": [
    "# Q1 Which keyword is used to create a function? Create a function to return a list of odd numbers in the\n",
    "#    range of 1 to 25.\n",
    "\n",
    "# def keyword is used to create a function\n",
    "l =[]\n",
    "def odd_list():\n",
    "    #l=[]\n",
    "    for i in range(1,26):\n",
    "        if i%2 != 0:\n",
    "            l.append(i)\n",
    "    return l\n",
    "            \n",
    "odd_list()      \n"
   ]
  },
  {
   "cell_type": "code",
   "execution_count": 3,
   "id": "0e1a07c9",
   "metadata": {},
   "outputs": [],
   "source": [
    "# Q2. Why *args and **kwargs is used in some functions? Create a function each for *args and **kwargs\n",
    "#     to demonstrate their use.\n",
    "\n",
    "\"\"\"Python has *args which allow us to pass the variable number of non keyword arguments to function.\n",
    "In the function, we should use an asterisk * before the parameter name to pass variable length arguments.\n",
    "The arguments are passed as a tuple and these passed arguments make tuple inside the function with same \n",
    "name as the parameter excluding asterisk *.\n",
    "\n",
    "we use the double asterisk ** before the parameter name to denote this type of argument. The arguments \n",
    "are passed as a dictionary and these arguments make a dictionary inside function with name same as the \n",
    "parameter excluding double asterisk\n",
    "\"\"\"\n",
    "\n",
    "def test(*args):\n",
    "    return args\n",
    "\n",
    "def test1(**kwargs):\n",
    "    return kwargs"
   ]
  },
  {
   "cell_type": "code",
   "execution_count": 4,
   "id": "9612dcb2",
   "metadata": {},
   "outputs": [
    {
     "data": {
      "text/plain": [
       "(1, 2, 23, 5, 9)"
      ]
     },
     "execution_count": 4,
     "metadata": {},
     "output_type": "execute_result"
    }
   ],
   "source": [
    "test(1,2,23,5,9)"
   ]
  },
  {
   "cell_type": "code",
   "execution_count": 5,
   "id": "f930d402",
   "metadata": {},
   "outputs": [
    {
     "data": {
      "text/plain": [
       "{'a': 1, 'b': 2}"
      ]
     },
     "execution_count": 5,
     "metadata": {},
     "output_type": "execute_result"
    }
   ],
   "source": [
    "test1(a=1,b=2)"
   ]
  },
  {
   "cell_type": "code",
   "execution_count": 24,
   "id": "4e85068c",
   "metadata": {},
   "outputs": [
    {
     "name": "stdout",
     "output_type": "stream",
     "text": [
      "2\n",
      "4\n",
      "6\n",
      "8\n",
      "10\n"
     ]
    }
   ],
   "source": [
    "\"\"\"Q3. What is an iterator in python? Name the method used to initialise the iterator object and the method\n",
    "used for iteration. Use these methods to print the first five elements of the given list [2, 4, 6, 8, 10, 12, 14,\n",
    "16, 18, 20].\n",
    "\n",
    "-> An iterator in Python is an object that is used to iterate over iterable objects like lists, tuples, dicts, and sets. \n",
    "   The Python iterators object is initialized using the iter() method. It uses the next() method for iteration.\n",
    "\n",
    "iter(): The iter() method is called for the initialization of an iterator. This returns an iterator object\n",
    "next(): The next() method returns the next value for the iterable. When we use a for loop to traverse any iterable \n",
    "object, internally it uses the iter() method to get an iterator object, which further uses the next() method to iterate over. \n",
    "This method raises a StopIteration to signal the end of the iteration.\n",
    "\"\"\"\n",
    "l1 = [2,4,6,8,10,12,14,16,18,20]\n",
    "\n",
    "nxt = iter(l1)\n",
    "n =1\n",
    "for i in l1:\n",
    "    while n<=5:\n",
    "        print(next(nxt))\n",
    "        n+=1\n",
    "    \n",
    "        \n",
    "    \n",
    "\n"
   ]
  },
  {
   "cell_type": "code",
   "execution_count": 25,
   "id": "75a7d85c",
   "metadata": {},
   "outputs": [
    {
     "name": "stdout",
     "output_type": "stream",
     "text": [
      "Krushna \n",
      "Devkar\n"
     ]
    }
   ],
   "source": [
    "'''Q4. What is a generator function in python? Why yield keyword is used? Give an example of a generator\n",
    "function.\n",
    "-> A Generator in Python is a function that returns an iterator using the Yield keyword.The yield keyword \n",
    "in Python is similar to a return statement used for returning values in Python which returns a generator \n",
    "object to the one who calls the function which contains yield, instead of simply returning a value.\n",
    "\n",
    "'''\n",
    "\n",
    "def fun1():\n",
    "    yield \"Krushna \"\n",
    "    yield \"Devkar\"\n",
    "    \n",
    "for i in fun1():\n",
    "    print(i)"
   ]
  },
  {
   "cell_type": "code",
   "execution_count": 73,
   "id": "3684ad32",
   "metadata": {},
   "outputs": [
    {
     "data": {
      "text/plain": [
       "<generator object getPrimes at 0x0000021B94BF36F0>"
      ]
     },
     "execution_count": 73,
     "metadata": {},
     "output_type": "execute_result"
    }
   ],
   "source": [
    "'''Q5. Create a generator function for prime numbers less than 1000. Use the next() method to print the\n",
    "first 20 prime numbers.'''\n",
    "\n",
    "def isprime(n):\n",
    "    for i in range(2 ,int((n**0.5))+1):\n",
    "        if n % i == 0:\n",
    "            return False\n",
    "    return True\n",
    "\n",
    "def getPrimes(n):\n",
    "    yield 2\n",
    "    i = 1\n",
    "    while i <= n-2:\n",
    "        i += 2\n",
    "        if isprime(i):\n",
    "            yield i\n",
    "           \n",
    "getPrimes(1000)              \n"
   ]
  },
  {
   "cell_type": "code",
   "execution_count": 86,
   "id": "18298999",
   "metadata": {},
   "outputs": [
    {
     "name": "stdout",
     "output_type": "stream",
     "text": [
      "3\n",
      "5\n",
      "7\n",
      "11\n",
      "13\n",
      "17\n",
      "19\n",
      "23\n",
      "29\n",
      "31\n",
      "37\n",
      "41\n",
      "43\n",
      "47\n",
      "53\n",
      "59\n",
      "61\n",
      "67\n",
      "71\n",
      "73\n"
     ]
    }
   ],
   "source": [
    "l5 = []\n",
    "for i in getPrimes(1000):\n",
    "    l5.append(i)\n",
    "itr = iter(l5)\n",
    "\n",
    "n =1\n",
    "for i in itr:\n",
    "    while n <= 20:\n",
    "        print(next(itr))\n",
    "        n+=1\n",
    "\n",
    "        "
   ]
  },
  {
   "cell_type": "code",
   "execution_count": 95,
   "id": "6b9ae8e6",
   "metadata": {},
   "outputs": [
    {
     "name": "stdout",
     "output_type": "stream",
     "text": [
      "0\n",
      "1\n",
      "1\n",
      "2\n",
      "3\n",
      "5\n",
      "8\n",
      "13\n",
      "21\n",
      "34\n"
     ]
    }
   ],
   "source": [
    "\n",
    "'''Q6. Write a python program to print the first 10 Fibonacci numbers using a while loop.'''\n",
    "\n",
    "def fibo(n):\n",
    "    c=0\n",
    "    a , b = 0 , 1\n",
    "    while c < n:\n",
    "        yield a\n",
    "        a , b = b , a+b\n",
    "        c+=1\n",
    "        \n",
    "for i in fibo(10):\n",
    "    print(i)"
   ]
  },
  {
   "cell_type": "code",
   "execution_count": 111,
   "id": "1a56067d",
   "metadata": {},
   "outputs": [
    {
     "data": {
      "text/plain": [
       "['p', 'w', 's', 'k', 'i', 'l', 'l', 's']"
      ]
     },
     "execution_count": 111,
     "metadata": {},
     "output_type": "execute_result"
    }
   ],
   "source": [
    "'''Q7. Write a List Comprehension to iterate through the given string: ‘pwskills’.\n",
    "Expected output: ['p', 'w', 's', 'k', 'i', 'l', 'l', 's']'''\n",
    "\n",
    "str ='pwskills'\n",
    "nstr = iter(str)\n",
    "l6 = []\n",
    "for i in nstr:\n",
    "    l6.append(i)\n",
    "l6"
   ]
  },
  {
   "cell_type": "code",
   "execution_count": 162,
   "id": "0f795a70",
   "metadata": {},
   "outputs": [
    {
     "name": "stdout",
     "output_type": "stream",
     "text": [
      "It is Palindrome number.\n"
     ]
    }
   ],
   "source": [
    "'''Q8. Write a python program to check whether a given number is Palindrome or not using a while loop.'''\n",
    "\n",
    "def pali(n):\n",
    "    n1 = n.__str__()[::-1]\n",
    "    n2 = int(n1)\n",
    "    if n == n2:\n",
    "        print(\"It is Palindrome number.\")\n",
    "    else:\n",
    "        print(\"Not a Palindrome number.\")\n",
    "    \n",
    "pali(12321)    \n",
    "     "
   ]
  },
  {
   "cell_type": "code",
   "execution_count": 165,
   "id": "55d29fa0",
   "metadata": {},
   "outputs": [
    {
     "name": "stdout",
     "output_type": "stream",
     "text": [
      "[1, 3, 5, 7, 9, 11, 13, 15, 17, 19, 21, 23, 25, 27, 29, 31, 33, 35, 37, 39, 41, 43, 45, 47, 49, 51, 53, 55, 57, 59, 61, 63, 65, 67, 69, 71, 73, 75, 77, 79, 81, 83, 85, 87, 89, 91, 93, 95, 97, 99]\n"
     ]
    }
   ],
   "source": [
    "'''Q9. Write a code to print odd numbers from 1 to 100 using list comprehension.'''\n",
    "l7 = []\n",
    "for i in range(1,100):\n",
    "    if i % 2 != 0:\n",
    "        l7.append(i)\n",
    "print(l7)\n",
    "        "
   ]
  },
  {
   "cell_type": "code",
   "execution_count": null,
   "id": "cfabfc58",
   "metadata": {},
   "outputs": [],
   "source": []
  },
  {
   "cell_type": "code",
   "execution_count": null,
   "id": "5dbad370",
   "metadata": {},
   "outputs": [],
   "source": []
  },
  {
   "cell_type": "code",
   "execution_count": null,
   "id": "68f31677",
   "metadata": {},
   "outputs": [],
   "source": []
  }
 ],
 "metadata": {
  "kernelspec": {
   "display_name": "Python 3 (ipykernel)",
   "language": "python",
   "name": "python3"
  },
  "language_info": {
   "codemirror_mode": {
    "name": "ipython",
    "version": 3
   },
   "file_extension": ".py",
   "mimetype": "text/x-python",
   "name": "python",
   "nbconvert_exporter": "python",
   "pygments_lexer": "ipython3",
   "version": "3.10.9"
  }
 },
 "nbformat": 4,
 "nbformat_minor": 5
}
